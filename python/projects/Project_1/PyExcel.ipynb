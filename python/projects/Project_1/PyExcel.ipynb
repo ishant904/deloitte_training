{
 "cells": [
  {
   "cell_type": "code",
   "execution_count": 61,
   "metadata": {},
   "outputs": [],
   "source": [
    "# importing pyxl libraries\n",
    "from openpyxl import Workbook\n",
    "from openpyxl import load_workbook\n",
    "from openpyxl.styles import Fill,Font,Color,colors"
   ]
  },
  {
   "cell_type": "code",
   "execution_count": 62,
   "metadata": {},
   "outputs": [],
   "source": [
    "#Creating a workbook object for old excel sheet\n",
    "wold = load_workbook('excel_old.xlsx')"
   ]
  },
  {
   "cell_type": "code",
   "execution_count": 63,
   "metadata": {},
   "outputs": [],
   "source": [
    "#Creating a workbook object for new excel sheet\n",
    "wnew = load_workbook('excel_new.xlsx')"
   ]
  },
  {
   "cell_type": "code",
   "execution_count": 64,
   "metadata": {},
   "outputs": [],
   "source": [
    "#Creating a workbook object for final excel sheet\n",
    "wfinal = Workbook()"
   ]
  },
  {
   "cell_type": "code",
   "execution_count": 65,
   "metadata": {},
   "outputs": [],
   "source": [
    "# Activating the worksheet in final excel sheet \n",
    "wfinalsheet=wfinal.active"
   ]
  },
  {
   "cell_type": "code",
   "execution_count": 66,
   "metadata": {},
   "outputs": [],
   "source": [
    "#Giving title to wfinalsheet as \"sheet1\"\n",
    "wfinalsheet.title='sheet1'"
   ]
  },
  {
   "cell_type": "code",
   "execution_count": 67,
   "metadata": {},
   "outputs": [],
   "source": [
    "#Activating the wold and wnew sheets as sheet1 and sheet2 respectively\n",
    "sheet1=wold.active\n",
    "sheet2=wnew.active"
   ]
  },
  {
   "cell_type": "code",
   "execution_count": 68,
   "metadata": {},
   "outputs": [],
   "source": [
    "#Finding the maximum row and columns of old sheet and assigning it to variable.\n",
    "max_row1=sheet1.max_row\n",
    "max_column1=sheet1.max_column"
   ]
  },
  {
   "cell_type": "code",
   "execution_count": 69,
   "metadata": {},
   "outputs": [
    {
     "data": {
      "text/plain": [
       "8"
      ]
     },
     "execution_count": 69,
     "metadata": {},
     "output_type": "execute_result"
    }
   ],
   "source": [
    "#Output of max_row\n",
    "max_row1"
   ]
  },
  {
   "cell_type": "code",
   "execution_count": 70,
   "metadata": {},
   "outputs": [
    {
     "data": {
      "text/plain": [
       "6"
      ]
     },
     "execution_count": 70,
     "metadata": {},
     "output_type": "execute_result"
    }
   ],
   "source": [
    "#Output of max-columns\n",
    "max_column1"
   ]
  },
  {
   "cell_type": "code",
   "execution_count": 71,
   "metadata": {},
   "outputs": [],
   "source": [
    "# Getting the headers of old sheet and putting it in final sheet\n",
    "for i in range(1,2):\n",
    "    for j in range(1,max_column1+1):\n",
    "        cell_obj1=sheet1.cell(row=i,column=j)\n",
    "        wfinalsheet.cell(row=i, column=j).value = cell_obj1.value\n",
    "#Saving the final workbook\n",
    "wfinal.save('final_excel.xlsx')"
   ]
  },
  {
   "cell_type": "code",
   "execution_count": 72,
   "metadata": {},
   "outputs": [],
   "source": [
    "#Adding the subtracted value of new excel from old excel to final sheet...\n",
    "#...where the values are not string type\n",
    "for i in range(2,max_row1+1):\n",
    "    for j in range(1,max_column1+1):\n",
    "        cell_obj1=sheet1.cell(row=i,column=j)\n",
    "        cell_obj2=sheet2.cell(row=i,column=j)\n",
    "        if type(cell_obj1.value) == str and type(cell_obj2.value) == str :\n",
    "            wfinalsheet.cell(row=i, column=j).value = cell_obj1.value\n",
    "        else:\n",
    "            temp=cell_obj2.value-cell_obj1.value\n",
    "            if(temp!=0):\n",
    "                wfinalsheet.cell(row=i, column=j).font = Font(color=colors.RED)\n",
    "            wfinalsheet.cell(row=i, column=j).value = temp\n",
    "            \n",
    "#Saving the file\n",
    "wfinal.save('final_excel.xlsx')"
   ]
  },
  {
   "cell_type": "code",
   "execution_count": null,
   "metadata": {},
   "outputs": [],
   "source": []
  },
  {
   "cell_type": "code",
   "execution_count": null,
   "metadata": {},
   "outputs": [],
   "source": []
  }
 ],
 "metadata": {
  "kernelspec": {
   "display_name": "Python 3",
   "language": "python",
   "name": "python3"
  },
  "language_info": {
   "codemirror_mode": {
    "name": "ipython",
    "version": 3
   },
   "file_extension": ".py",
   "mimetype": "text/x-python",
   "name": "python",
   "nbconvert_exporter": "python",
   "pygments_lexer": "ipython3",
   "version": "3.7.4"
  }
 },
 "nbformat": 4,
 "nbformat_minor": 2
}
